{
 "cells": [
  {
   "cell_type": "code",
   "execution_count": 1,
   "id": "4afe9ea2",
   "metadata": {},
   "outputs": [],
   "source": [
    "import tensorflow as tf\n",
    "from tensorflow import keras\n",
    "from tensorflow.keras import layers\n",
    "from tensorflow.keras.models import Sequential\n",
    "from tensorflow.keras.layers import Conv2D, MaxPooling2D, AveragePooling2D, BatchNormalization\n",
    "from tensorflow.keras.layers import Dense, Activation, Dropout, Flatten\n",
    "from tensorflow.keras.preprocessing import image\n",
    "from tensorflow.keras.preprocessing.image import ImageDataGenerator\n",
    "import cv2\n",
    "import numpy as np\n",
    "import matplotlib.pyplot as plt\n",
    "from tensorflow.keras.models import model_from_json"
   ]
  },
  {
   "cell_type": "code",
   "execution_count": 2,
   "id": "460fa806",
   "metadata": {},
   "outputs": [],
   "source": [
    "#defining the necessary variables\n",
    "#Download dataset here\n",
    "#https://www.kaggle.com/c/challenges-in-representation-learning-facial-expression-recognition-challenge\n",
    "num_classes = 7 #(angry,disgust,fear,happy,sad,surprise,neutral)\n",
    "batch_size = 256\n",
    "epochs = 5"
   ]
  },
  {
   "cell_type": "code",
   "execution_count": 3,
   "id": "1248a430",
   "metadata": {},
   "outputs": [
    {
     "name": "stdout",
     "output_type": "stream",
     "text": [
      "number of instances:  35888\n",
      "instance length:  2304\n"
     ]
    }
   ],
   "source": [
    "#Reading the dataset\n",
    "with open(\"./fer2013/fer2013.csv\") as f:\n",
    "    content=f.readlines()\n",
    "lines=np.array(content)\n",
    "num_of_instances = lines.size\n",
    "print(\"number of instances: \",num_of_instances)\n",
    "print(\"instance length: \",len(lines[1].split(\",\")[1].split(\" \")))"
   ]
  },
  {
   "cell_type": "code",
   "execution_count": 4,
   "id": "4f37a6c8",
   "metadata": {},
   "outputs": [],
   "source": [
    "#Initizalizing the train and test set\n",
    "x_train,y_train,x_test,y_test = [],[],[],[]\n",
    "#Load the dataset to the train and test variables\n",
    "for i in range(1,num_of_instances):\n",
    "    try:\n",
    "        emotion, img, usage=lines[i].split(\",\")\n",
    "        val=img.split(\" \")\n",
    "        pixels=np.array(val, 'float32')\n",
    "        emotion= keras.utils.to_categorical(emotion, num_classes)\n",
    "        \n",
    "        if 'Training' in usage:\n",
    "            y_train.append(emotion)\n",
    "            x_train.append(pixels)\n",
    "        elif 'PublicTest' in usage:\n",
    "            y_test.append(emotion)\n",
    "            x_test.append(pixels)\n",
    "    except:\n",
    "        print(\"\", end=\"\")"
   ]
  },
  {
   "cell_type": "code",
   "execution_count": 5,
   "id": "9dcbf21d",
   "metadata": {},
   "outputs": [
    {
     "name": "stdout",
     "output_type": "stream",
     "text": [
      "28709 train samples\n",
      "3589 test samples\n"
     ]
    }
   ],
   "source": [
    "#Data transformation\n",
    "x_train = np.array(x_train, 'float32')\n",
    "x_test = np.array(x_test, 'float32')\n",
    "y_train = np.asarray(y_train).astype('float32')\n",
    "y_test = np.asarray(y_test).astype('float32')\n",
    "#Normalizing the images in test and train set\n",
    "x_train/=255\n",
    "x_test/=255\n",
    "#Reshaping\n",
    "x_train = x_train.reshape(x_train.shape[0], 48, 48, 1)\n",
    "x_train = x_train.astype('float32')\n",
    "x_test = x_test.reshape(x_test.shape[0], 48, 48, 1)\n",
    "x_test = x_test.astype('float32')\n",
    "\n",
    "print(x_train.shape[0], 'train samples')\n",
    "print(x_test.shape[0], 'test samples')"
   ]
  },
  {
   "cell_type": "code",
   "execution_count": 6,
   "id": "bc56e912",
   "metadata": {},
   "outputs": [],
   "source": [
    "#CNN to be compiled by rmsprop optimizer\n",
    "model = tf.keras.models.Sequential([\n",
    "    #Convolution Layer 1\n",
    "    tf.keras.layers.Conv2D(32,(3,3),activation = 'relu',padding='same',kernel_initializer='he_normal',input_shape=(48,48,1)),\n",
    "    tf.keras.layers.BatchNormalization(),\n",
    "    tf.keras.layers.Conv2D(32,(3,3),activation = 'relu',padding='same',kernel_initializer='he_normal',),\n",
    "    tf.keras.layers.BatchNormalization(),\n",
    "    tf.keras.layers.MaxPooling2D(2,2),\n",
    "    tf.keras.layers.Dropout(0.2),\n",
    "    #Convolution Layer 2\n",
    "    tf.keras.layers.Conv2D(64,(3,3),activation = 'relu',padding='same',kernel_initializer='he_normal'),\n",
    "    tf.keras.layers.BatchNormalization(),\n",
    "    tf.keras.layers.Conv2D(64,(3,3),activation = 'relu',padding='same',kernel_initializer='he_normal'),\n",
    "    tf.keras.layers.BatchNormalization(),\n",
    "    tf.keras.layers.MaxPooling2D(2,2),\n",
    "    tf.keras.layers.Dropout(0.2),\n",
    "    #Convolution Layer 3\n",
    "    tf.keras.layers.Conv2D(128,(3,3),activation ='relu',padding='same',kernel_initializer='he_normal'),\n",
    "    tf.keras.layers.BatchNormalization(),\n",
    "    tf.keras.layers.Conv2D(128,(3,3),activation = 'relu',padding='same',kernel_initializer='he_normal'),\n",
    "    tf.keras.layers.BatchNormalization(),\n",
    "    tf.keras.layers.MaxPooling2D(2,2),\n",
    "    tf.keras.layers.Dropout(0.2),\n",
    "    #Convolution Layer 4\n",
    "    tf.keras.layers.Conv2D(256,(3,3),activation = 'relu',padding='same',kernel_initializer='he_normal'),\n",
    "    tf.keras.layers.BatchNormalization(),\n",
    "    tf.keras.layers.Conv2D(256,(3,3),activation = 'relu',padding='same',kernel_initializer='he_normal'),\n",
    "    tf.keras.layers.BatchNormalization(),\n",
    "    tf.keras.layers.MaxPooling2D(2,2),\n",
    "    tf.keras.layers.Dropout(0.2),\n",
    "    #Fully Connected Layer 1\n",
    "    tf.keras.layers.Flatten(),\n",
    "    tf.keras.layers.Dense(64,kernel_initializer='he_normal'),\n",
    "    tf.keras.layers.BatchNormalization(),\n",
    "    tf.keras.layers.Dropout(0.5),\n",
    "    #Fully Connected Layer 2\n",
    "    tf.keras.layers.Dense(64,kernel_initializer='he_normal'),\n",
    "    tf.keras.layers.BatchNormalization(),\n",
    "    tf.keras.layers.Dropout(0.5),\n",
    "    #Final Output layer\n",
    "    tf.keras.layers.Dense(7,activation = 'softmax')\n",
    "    ])"
   ]
  },
  {
   "cell_type": "code",
   "execution_count": 8,
   "id": "21eca342",
   "metadata": {},
   "outputs": [],
   "source": [
    "#Creating the checkpoint for saving the weights\n",
    "from tensorflow.keras.callbacks import ModelCheckpoint\n",
    "filepath='./weightab.hdf5'\n",
    "checkpoint = ModelCheckpoint(filepath,monitor = 'val_acc',factor = 0.1,patience = 7,verbose = 1,mode = 'max'),"
   ]
  },
  {
   "cell_type": "code",
   "execution_count": 9,
   "id": "fe99294a",
   "metadata": {},
   "outputs": [],
   "source": [
    "#Compiling the model using rmsprop optimizer\n",
    "model.compile(optimizer='rmsprop', \n",
    "              loss='binary_crossentropy',\n",
    "              metrics=['accuracy'])"
   ]
  },
  {
   "cell_type": "code",
   "execution_count": 10,
   "id": "d2420c2a",
   "metadata": {
    "scrolled": true
   },
   "outputs": [
    {
     "name": "stdout",
     "output_type": "stream",
     "text": [
      "Epoch 1/50\n",
      "898/898 [==============================] - 76s 39ms/step - loss: 0.4890 - accuracy: 0.2352 - val_loss: 0.3528 - val_accuracy: 0.3642\n",
      "\n",
      "Epoch 00001: saving model to .\\weightab.hdf5\n",
      "Epoch 2/50\n",
      "898/898 [==============================] - 34s 37ms/step - loss: 0.3268 - accuracy: 0.4384 - val_loss: 0.2890 - val_accuracy: 0.4979\n",
      "\n",
      "Epoch 00002: saving model to .\\weightab.hdf5\n",
      "Epoch 3/50\n",
      "898/898 [==============================] - 34s 38ms/step - loss: 0.2986 - accuracy: 0.5088 - val_loss: 0.2768 - val_accuracy: 0.5347\n",
      "\n",
      "Epoch 00003: saving model to .\\weightab.hdf5\n",
      "Epoch 4/50\n",
      "898/898 [==============================] - 34s 38ms/step - loss: 0.2812 - accuracy: 0.5466 - val_loss: 0.2687 - val_accuracy: 0.5612\n",
      "\n",
      "Epoch 00004: saving model to .\\weightab.hdf5\n",
      "Epoch 5/50\n",
      "898/898 [==============================] - 34s 38ms/step - loss: 0.2691 - accuracy: 0.5823 - val_loss: 0.2593 - val_accuracy: 0.5748\n",
      "\n",
      "Epoch 00005: saving model to .\\weightab.hdf5\n",
      "Epoch 6/50\n",
      "898/898 [==============================] - 34s 38ms/step - loss: 0.2576 - accuracy: 0.6058 - val_loss: 0.2603 - val_accuracy: 0.5673\n",
      "\n",
      "Epoch 00006: saving model to .\\weightab.hdf5\n",
      "Epoch 7/50\n",
      "898/898 [==============================] - 34s 38ms/step - loss: 0.2492 - accuracy: 0.6269 - val_loss: 0.2531 - val_accuracy: 0.5899\n",
      "\n",
      "Epoch 00007: saving model to .\\weightab.hdf5\n",
      "Epoch 8/50\n",
      "898/898 [==============================] - 34s 37ms/step - loss: 0.2383 - accuracy: 0.6441 - val_loss: 0.2423 - val_accuracy: 0.6133\n",
      "\n",
      "Epoch 00008: saving model to .\\weightab.hdf5\n",
      "Epoch 9/50\n",
      "898/898 [==============================] - 34s 38ms/step - loss: 0.2312 - accuracy: 0.6613 - val_loss: 0.2464 - val_accuracy: 0.6043\n",
      "\n",
      "Epoch 00009: saving model to .\\weightab.hdf5\n",
      "Epoch 10/50\n",
      "898/898 [==============================] - 34s 38ms/step - loss: 0.2221 - accuracy: 0.6810 - val_loss: 0.2467 - val_accuracy: 0.6239\n",
      "\n",
      "Epoch 00010: saving model to .\\weightab.hdf5\n",
      "Epoch 11/50\n",
      "898/898 [==============================] - 34s 38ms/step - loss: 0.2120 - accuracy: 0.6976 - val_loss: 0.2480 - val_accuracy: 0.6119\n",
      "\n",
      "Epoch 00011: saving model to .\\weightab.hdf5\n",
      "Epoch 12/50\n",
      "898/898 [==============================] - 34s 38ms/step - loss: 0.2047 - accuracy: 0.7154 - val_loss: 0.2450 - val_accuracy: 0.6144\n",
      "\n",
      "Epoch 00012: saving model to .\\weightab.hdf5\n",
      "Epoch 13/50\n",
      "898/898 [==============================] - 34s 38ms/step - loss: 0.1968 - accuracy: 0.7282 - val_loss: 0.2409 - val_accuracy: 0.6330\n",
      "\n",
      "Epoch 00013: saving model to .\\weightab.hdf5\n",
      "Epoch 14/50\n",
      "898/898 [==============================] - 35s 38ms/step - loss: 0.1872 - accuracy: 0.7459 - val_loss: 0.2431 - val_accuracy: 0.6330\n",
      "\n",
      "Epoch 00014: saving model to .\\weightab.hdf5\n",
      "Epoch 15/50\n",
      "898/898 [==============================] - 34s 38ms/step - loss: 0.1817 - accuracy: 0.7567 - val_loss: 0.2507 - val_accuracy: 0.6275\n",
      "\n",
      "Epoch 00015: saving model to .\\weightab.hdf5\n",
      "Epoch 16/50\n",
      "898/898 [==============================] - 35s 39ms/step - loss: 0.1753 - accuracy: 0.7705 - val_loss: 0.2760 - val_accuracy: 0.6163\n",
      "\n",
      "Epoch 00016: saving model to .\\weightab.hdf5\n",
      "Epoch 17/50\n",
      "898/898 [==============================] - 34s 38ms/step - loss: 0.1682 - accuracy: 0.7837 - val_loss: 0.2522 - val_accuracy: 0.6255\n",
      "\n",
      "Epoch 00017: saving model to .\\weightab.hdf5\n",
      "Epoch 18/50\n",
      "898/898 [==============================] - 34s 38ms/step - loss: 0.1605 - accuracy: 0.8001 - val_loss: 0.2618 - val_accuracy: 0.6158\n",
      "\n",
      "Epoch 00018: saving model to .\\weightab.hdf5\n",
      "Epoch 19/50\n",
      "898/898 [==============================] - 34s 38ms/step - loss: 0.1548 - accuracy: 0.8050 - val_loss: 0.2721 - val_accuracy: 0.6188\n",
      "\n",
      "Epoch 00019: saving model to .\\weightab.hdf5\n",
      "Epoch 20/50\n",
      "898/898 [==============================] - 34s 38ms/step - loss: 0.1519 - accuracy: 0.8130 - val_loss: 0.2663 - val_accuracy: 0.6141\n",
      "\n",
      "Epoch 00020: saving model to .\\weightab.hdf5\n",
      "Epoch 21/50\n",
      "898/898 [==============================] - 34s 38ms/step - loss: 0.1443 - accuracy: 0.8271 - val_loss: 0.2596 - val_accuracy: 0.6431\n",
      "\n",
      "Epoch 00021: saving model to .\\weightab.hdf5\n",
      "Epoch 22/50\n",
      "898/898 [==============================] - 33s 37ms/step - loss: 0.1387 - accuracy: 0.8334 - val_loss: 0.2750 - val_accuracy: 0.6358\n",
      "\n",
      "Epoch 00022: saving model to .\\weightab.hdf5\n",
      "Epoch 23/50\n",
      "898/898 [==============================] - 34s 37ms/step - loss: 0.1349 - accuracy: 0.8417 - val_loss: 0.2876 - val_accuracy: 0.6383\n",
      "\n",
      "Epoch 00023: saving model to .\\weightab.hdf5\n",
      "Epoch 24/50\n",
      "898/898 [==============================] - 33s 37ms/step - loss: 0.1311 - accuracy: 0.8495 - val_loss: 0.2774 - val_accuracy: 0.6018\n",
      "\n",
      "Epoch 00024: saving model to .\\weightab.hdf5\n",
      "Epoch 25/50\n",
      "898/898 [==============================] - 34s 37ms/step - loss: 0.1280 - accuracy: 0.8540 - val_loss: 0.2819 - val_accuracy: 0.6247\n",
      "\n",
      "Epoch 00025: saving model to .\\weightab.hdf5\n",
      "Epoch 26/50\n",
      "898/898 [==============================] - 33s 37ms/step - loss: 0.1234 - accuracy: 0.8627 - val_loss: 0.2882 - val_accuracy: 0.6439\n",
      "\n",
      "Epoch 00026: saving model to .\\weightab.hdf5\n",
      "Epoch 27/50\n",
      "898/898 [==============================] - 35s 39ms/step - loss: 0.1208 - accuracy: 0.8651 - val_loss: 0.2973 - val_accuracy: 0.6261\n",
      "\n",
      "Epoch 00027: saving model to .\\weightab.hdf5\n",
      "Epoch 28/50\n",
      "898/898 [==============================] - 35s 39ms/step - loss: 0.1187 - accuracy: 0.8723 - val_loss: 0.2892 - val_accuracy: 0.6283\n",
      "\n",
      "Epoch 00028: saving model to .\\weightab.hdf5\n",
      "Epoch 29/50\n",
      "898/898 [==============================] - 34s 38ms/step - loss: 0.1150 - accuracy: 0.8742 - val_loss: 0.2924 - val_accuracy: 0.6350\n",
      "\n",
      "Epoch 00029: saving model to .\\weightab.hdf5\n",
      "Epoch 30/50\n",
      "898/898 [==============================] - 33s 37ms/step - loss: 0.1120 - accuracy: 0.8838 - val_loss: 0.2942 - val_accuracy: 0.6397\n",
      "\n",
      "Epoch 00030: saving model to .\\weightab.hdf5\n",
      "Epoch 31/50\n",
      "898/898 [==============================] - 34s 38ms/step - loss: 0.1085 - accuracy: 0.8882 - val_loss: 0.2966 - val_accuracy: 0.6378\n",
      "\n",
      "Epoch 00031: saving model to .\\weightab.hdf5\n",
      "Epoch 32/50\n",
      "898/898 [==============================] - 34s 38ms/step - loss: 0.1062 - accuracy: 0.8921 - val_loss: 0.3015 - val_accuracy: 0.6434\n",
      "\n",
      "Epoch 00032: saving model to .\\weightab.hdf5\n",
      "Epoch 33/50\n",
      "898/898 [==============================] - 34s 38ms/step - loss: 0.1044 - accuracy: 0.8944 - val_loss: 0.3148 - val_accuracy: 0.6152\n",
      "\n",
      "Epoch 00033: saving model to .\\weightab.hdf5\n",
      "Epoch 34/50\n",
      "898/898 [==============================] - 34s 38ms/step - loss: 0.1012 - accuracy: 0.9014 - val_loss: 0.3062 - val_accuracy: 0.6414\n",
      "\n",
      "Epoch 00034: saving model to .\\weightab.hdf5\n",
      "Epoch 35/50\n",
      "898/898 [==============================] - 34s 38ms/step - loss: 0.0992 - accuracy: 0.9022 - val_loss: 0.3233 - val_accuracy: 0.6425\n",
      "\n",
      "Epoch 00035: saving model to .\\weightab.hdf5\n",
      "Epoch 36/50\n",
      "898/898 [==============================] - 34s 38ms/step - loss: 0.0981 - accuracy: 0.9061 - val_loss: 0.3002 - val_accuracy: 0.6294\n",
      "\n",
      "Epoch 00036: saving model to .\\weightab.hdf5\n",
      "Epoch 37/50\n",
      "898/898 [==============================] - 34s 38ms/step - loss: 0.0955 - accuracy: 0.9061 - val_loss: 0.3126 - val_accuracy: 0.6205\n",
      "\n",
      "Epoch 00037: saving model to .\\weightab.hdf5\n",
      "Epoch 38/50\n",
      "898/898 [==============================] - 34s 38ms/step - loss: 0.0947 - accuracy: 0.9107 - val_loss: 0.3124 - val_accuracy: 0.6328\n",
      "\n",
      "Epoch 00038: saving model to .\\weightab.hdf5\n",
      "Epoch 39/50\n",
      "898/898 [==============================] - 35s 39ms/step - loss: 0.0950 - accuracy: 0.9095 - val_loss: 0.3203 - val_accuracy: 0.6378\n",
      "\n",
      "Epoch 00039: saving model to .\\weightab.hdf5\n",
      "Epoch 40/50\n",
      "898/898 [==============================] - 35s 39ms/step - loss: 0.0918 - accuracy: 0.9138 - val_loss: 0.3257 - val_accuracy: 0.6300\n",
      "\n",
      "Epoch 00040: saving model to .\\weightab.hdf5\n",
      "Epoch 41/50\n",
      "898/898 [==============================] - 35s 39ms/step - loss: 0.0912 - accuracy: 0.9153 - val_loss: 0.3085 - val_accuracy: 0.6096\n",
      "\n",
      "Epoch 00041: saving model to .\\weightab.hdf5\n",
      "Epoch 42/50\n",
      "898/898 [==============================] - 34s 38ms/step - loss: 0.0886 - accuracy: 0.9188 - val_loss: 0.3134 - val_accuracy: 0.6330\n",
      "\n",
      "Epoch 00042: saving model to .\\weightab.hdf5\n",
      "Epoch 43/50\n",
      "898/898 [==============================] - 34s 38ms/step - loss: 0.0869 - accuracy: 0.9198 - val_loss: 0.3092 - val_accuracy: 0.6397\n",
      "\n",
      "Epoch 00043: saving model to .\\weightab.hdf5\n"
     ]
    },
    {
     "name": "stdout",
     "output_type": "stream",
     "text": [
      "Epoch 44/50\n",
      "898/898 [==============================] - 34s 38ms/step - loss: 0.0873 - accuracy: 0.9201 - val_loss: 0.3388 - val_accuracy: 0.6434\n",
      "\n",
      "Epoch 00044: saving model to .\\weightab.hdf5\n",
      "Epoch 45/50\n",
      "898/898 [==============================] - 35s 39ms/step - loss: 0.0844 - accuracy: 0.9254 - val_loss: 0.3201 - val_accuracy: 0.6339\n",
      "\n",
      "Epoch 00045: saving model to .\\weightab.hdf5\n",
      "Epoch 46/50\n",
      "898/898 [==============================] - 34s 38ms/step - loss: 0.0838 - accuracy: 0.9248 - val_loss: 0.3426 - val_accuracy: 0.6311\n",
      "\n",
      "Epoch 00046: saving model to .\\weightab.hdf5\n",
      "Epoch 47/50\n",
      "898/898 [==============================] - 34s 37ms/step - loss: 0.0832 - accuracy: 0.9263 - val_loss: 0.3285 - val_accuracy: 0.6414\n",
      "\n",
      "Epoch 00047: saving model to .\\weightab.hdf5\n",
      "Epoch 48/50\n",
      "898/898 [==============================] - 34s 38ms/step - loss: 0.0808 - accuracy: 0.9299 - val_loss: 0.3318 - val_accuracy: 0.6172\n",
      "\n",
      "Epoch 00048: saving model to .\\weightab.hdf5\n",
      "Epoch 49/50\n",
      "898/898 [==============================] - 34s 37ms/step - loss: 0.0802 - accuracy: 0.9314 - val_loss: 0.3380 - val_accuracy: 0.6369\n",
      "\n",
      "Epoch 00049: saving model to .\\weightab.hdf5\n",
      "Epoch 50/50\n",
      "898/898 [==============================] - 34s 38ms/step - loss: 0.0785 - accuracy: 0.9344 - val_loss: 0.3523 - val_accuracy: 0.6383\n",
      "\n",
      "Epoch 00050: saving model to .\\weightab.hdf5\n"
     ]
    }
   ],
   "source": [
    "#Training the model\n",
    "history=model.fit(x_train, y_train,\n",
    "                  epochs=50,\n",
    "                  callbacks=checkpoint,\n",
    "                  validation_data=(x_test,y_test))"
   ]
  },
  {
   "cell_type": "code",
   "execution_count": 34,
   "id": "88d5e646",
   "metadata": {},
   "outputs": [],
   "source": [
    "#CNN to be compiled by adam optimizer\n",
    "modelad = tf.keras.models.Sequential([\n",
    "    #Convolution Layer 1\n",
    "    tf.keras.layers.Conv2D(32,(3,3),activation = 'relu',padding='same',kernel_initializer='he_normal',input_shape=(48,48,1)),\n",
    "    tf.keras.layers.BatchNormalization(),\n",
    "    tf.keras.layers.Conv2D(32,(3,3),activation = 'relu',padding='same',kernel_initializer='he_normal',),\n",
    "    tf.keras.layers.BatchNormalization(),\n",
    "    tf.keras.layers.MaxPooling2D(2,2),\n",
    "    tf.keras.layers.Dropout(0.2),\n",
    "    #Convolution Layer 2\n",
    "    tf.keras.layers.Conv2D(64,(3,3),activation = 'relu',padding='same',kernel_initializer='he_normal'),\n",
    "    tf.keras.layers.BatchNormalization(),\n",
    "    tf.keras.layers.Conv2D(64,(3,3),activation = 'relu',padding='same',kernel_initializer='he_normal'),\n",
    "    tf.keras.layers.BatchNormalization(),\n",
    "    tf.keras.layers.MaxPooling2D(2,2),\n",
    "    tf.keras.layers.Dropout(0.2),\n",
    "    #Convolution Layer 3\n",
    "    tf.keras.layers.Conv2D(128,(3,3),activation ='relu',padding='same',kernel_initializer='he_normal'),\n",
    "    tf.keras.layers.BatchNormalization(),\n",
    "    tf.keras.layers.Conv2D(128,(3,3),activation = 'relu',padding='same',kernel_initializer='he_normal'),\n",
    "    tf.keras.layers.BatchNormalization(),\n",
    "    tf.keras.layers.MaxPooling2D(2,2),\n",
    "    tf.keras.layers.Dropout(0.2),\n",
    "    #Convolution Layer 4\n",
    "    tf.keras.layers.Conv2D(256,(3,3),activation = 'relu',padding='same',kernel_initializer='he_normal'),\n",
    "    tf.keras.layers.BatchNormalization(),\n",
    "    tf.keras.layers.Conv2D(256,(3,3),activation = 'relu',padding='same',kernel_initializer='he_normal'),\n",
    "    tf.keras.layers.BatchNormalization(),\n",
    "    tf.keras.layers.MaxPooling2D(2,2),\n",
    "    tf.keras.layers.Dropout(0.2),\n",
    "    #Fully Connected Layer 1\n",
    "    tf.keras.layers.Flatten(),\n",
    "    tf.keras.layers.Dense(64,kernel_initializer='he_normal'),\n",
    "    tf.keras.layers.BatchNormalization(),\n",
    "    tf.keras.layers.Dropout(0.5),\n",
    "    #Fully Connected Layer 2\n",
    "    tf.keras.layers.Dense(64,kernel_initializer='he_normal'),\n",
    "    tf.keras.layers.BatchNormalization(),\n",
    "    tf.keras.layers.Dropout(0.5),\n",
    "    #Final Output layer\n",
    "    tf.keras.layers.Dense(7,activation = 'softmax')\n",
    "    ])"
   ]
  },
  {
   "cell_type": "code",
   "execution_count": 35,
   "id": "1ca957d7",
   "metadata": {
    "scrolled": true
   },
   "outputs": [
    {
     "name": "stdout",
     "output_type": "stream",
     "text": [
      "Epoch 1/50\n",
      "898/898 [==============================] - 28s 29ms/step - loss: 0.4992 - accuracy: 0.2469 - val_loss: 0.3420 - val_accuracy: 0.3996\n",
      "Epoch 2/50\n",
      "898/898 [==============================] - 26s 29ms/step - loss: 0.3406 - accuracy: 0.4232 - val_loss: 0.2973 - val_accuracy: 0.4812\n",
      "Epoch 3/50\n",
      "898/898 [==============================] - 26s 29ms/step - loss: 0.3061 - accuracy: 0.4962 - val_loss: 0.2832 - val_accuracy: 0.5300\n",
      "Epoch 4/50\n",
      "898/898 [==============================] - 26s 29ms/step - loss: 0.2886 - accuracy: 0.5378 - val_loss: 0.2809 - val_accuracy: 0.5316\n",
      "Epoch 5/50\n",
      "898/898 [==============================] - 26s 29ms/step - loss: 0.2769 - accuracy: 0.5606 - val_loss: 0.2704 - val_accuracy: 0.5559\n",
      "Epoch 6/50\n",
      "898/898 [==============================] - 26s 29ms/step - loss: 0.2669 - accuracy: 0.5865 - val_loss: 0.2505 - val_accuracy: 0.5893\n",
      "Epoch 7/50\n",
      "898/898 [==============================] - 26s 29ms/step - loss: 0.2567 - accuracy: 0.6083 - val_loss: 0.2503 - val_accuracy: 0.5954\n",
      "Epoch 8/50\n",
      "898/898 [==============================] - 26s 29ms/step - loss: 0.2470 - accuracy: 0.6313 - val_loss: 0.2476 - val_accuracy: 0.5929\n",
      "Epoch 9/50\n",
      "898/898 [==============================] - 26s 29ms/step - loss: 0.2376 - accuracy: 0.6487 - val_loss: 0.2502 - val_accuracy: 0.5982\n",
      "Epoch 10/50\n",
      "898/898 [==============================] - 26s 29ms/step - loss: 0.2295 - accuracy: 0.6656 - val_loss: 0.2478 - val_accuracy: 0.6102\n",
      "Epoch 11/50\n",
      "898/898 [==============================] - 26s 29ms/step - loss: 0.2176 - accuracy: 0.6871 - val_loss: 0.2436 - val_accuracy: 0.6202\n",
      "Epoch 12/50\n",
      "898/898 [==============================] - 26s 29ms/step - loss: 0.2075 - accuracy: 0.7095 - val_loss: 0.2415 - val_accuracy: 0.6252\n",
      "Epoch 13/50\n",
      "898/898 [==============================] - 26s 29ms/step - loss: 0.1978 - accuracy: 0.7325 - val_loss: 0.2489 - val_accuracy: 0.6330\n",
      "Epoch 14/50\n",
      "898/898 [==============================] - 26s 29ms/step - loss: 0.1881 - accuracy: 0.7471 - val_loss: 0.2525 - val_accuracy: 0.6264\n",
      "Epoch 15/50\n",
      "898/898 [==============================] - 26s 29ms/step - loss: 0.1780 - accuracy: 0.7672 - val_loss: 0.2602 - val_accuracy: 0.6344\n",
      "Epoch 16/50\n",
      "898/898 [==============================] - 26s 29ms/step - loss: 0.1693 - accuracy: 0.7844 - val_loss: 0.2672 - val_accuracy: 0.6297\n",
      "Epoch 17/50\n",
      "898/898 [==============================] - 26s 29ms/step - loss: 0.1611 - accuracy: 0.7979 - val_loss: 0.2743 - val_accuracy: 0.6336\n",
      "Epoch 18/50\n",
      "898/898 [==============================] - 26s 29ms/step - loss: 0.1533 - accuracy: 0.8121 - val_loss: 0.2719 - val_accuracy: 0.6453\n",
      "Epoch 19/50\n",
      "898/898 [==============================] - 26s 29ms/step - loss: 0.1461 - accuracy: 0.8264 - val_loss: 0.2873 - val_accuracy: 0.6325\n",
      "Epoch 20/50\n",
      "898/898 [==============================] - 26s 29ms/step - loss: 0.1402 - accuracy: 0.8361 - val_loss: 0.2809 - val_accuracy: 0.6311\n",
      "Epoch 21/50\n",
      "898/898 [==============================] - 26s 29ms/step - loss: 0.1325 - accuracy: 0.8498 - val_loss: 0.2847 - val_accuracy: 0.6386\n",
      "Epoch 22/50\n",
      "898/898 [==============================] - 26s 29ms/step - loss: 0.1298 - accuracy: 0.8534 - val_loss: 0.3022 - val_accuracy: 0.6392\n",
      "Epoch 23/50\n",
      "898/898 [==============================] - 26s 29ms/step - loss: 0.1213 - accuracy: 0.8672 - val_loss: 0.3126 - val_accuracy: 0.6275\n",
      "Epoch 24/50\n",
      "898/898 [==============================] - 26s 29ms/step - loss: 0.1191 - accuracy: 0.8733 - val_loss: 0.3056 - val_accuracy: 0.6344\n",
      "Epoch 25/50\n",
      "898/898 [==============================] - 26s 29ms/step - loss: 0.1140 - accuracy: 0.8802 - val_loss: 0.2999 - val_accuracy: 0.6339\n",
      "Epoch 26/50\n",
      "898/898 [==============================] - 26s 29ms/step - loss: 0.1125 - accuracy: 0.8840 - val_loss: 0.3200 - val_accuracy: 0.6461\n",
      "Epoch 27/50\n",
      "898/898 [==============================] - 26s 29ms/step - loss: 0.1077 - accuracy: 0.8921 - val_loss: 0.3147 - val_accuracy: 0.6350\n",
      "Epoch 28/50\n",
      "898/898 [==============================] - 26s 29ms/step - loss: 0.1042 - accuracy: 0.8958 - val_loss: 0.3138 - val_accuracy: 0.6330\n",
      "Epoch 29/50\n",
      "898/898 [==============================] - 26s 29ms/step - loss: 0.1019 - accuracy: 0.8998 - val_loss: 0.3433 - val_accuracy: 0.6406\n",
      "Epoch 30/50\n",
      "898/898 [==============================] - 26s 29ms/step - loss: 0.1012 - accuracy: 0.9006 - val_loss: 0.3408 - val_accuracy: 0.6464\n",
      "Epoch 31/50\n",
      "898/898 [==============================] - 27s 30ms/step - loss: 0.0936 - accuracy: 0.9114 - val_loss: 0.3527 - val_accuracy: 0.6408\n",
      "Epoch 32/50\n",
      "898/898 [==============================] - 27s 30ms/step - loss: 0.0944 - accuracy: 0.9134 - val_loss: 0.3389 - val_accuracy: 0.6417\n",
      "Epoch 33/50\n",
      "898/898 [==============================] - 27s 30ms/step - loss: 0.0908 - accuracy: 0.9162 - val_loss: 0.3405 - val_accuracy: 0.6333\n",
      "Epoch 34/50\n",
      "898/898 [==============================] - 26s 29ms/step - loss: 0.0915 - accuracy: 0.9160 - val_loss: 0.3407 - val_accuracy: 0.6473\n",
      "Epoch 35/50\n",
      "898/898 [==============================] - 26s 29ms/step - loss: 0.0854 - accuracy: 0.9220 - val_loss: 0.3518 - val_accuracy: 0.6436\n",
      "Epoch 36/50\n",
      "898/898 [==============================] - 27s 30ms/step - loss: 0.0843 - accuracy: 0.9257 - val_loss: 0.3610 - val_accuracy: 0.6486\n",
      "Epoch 37/50\n",
      "898/898 [==============================] - 26s 29ms/step - loss: 0.0844 - accuracy: 0.9271 - val_loss: 0.3394 - val_accuracy: 0.6473\n",
      "Epoch 38/50\n",
      "898/898 [==============================] - 26s 29ms/step - loss: 0.0815 - accuracy: 0.9309 - val_loss: 0.3644 - val_accuracy: 0.6425\n",
      "Epoch 39/50\n",
      "898/898 [==============================] - 26s 29ms/step - loss: 0.0810 - accuracy: 0.9313 - val_loss: 0.3603 - val_accuracy: 0.6428\n",
      "Epoch 40/50\n",
      "898/898 [==============================] - 26s 29ms/step - loss: 0.0781 - accuracy: 0.9355 - val_loss: 0.3594 - val_accuracy: 0.6425\n",
      "Epoch 41/50\n",
      "898/898 [==============================] - 26s 29ms/step - loss: 0.0784 - accuracy: 0.9329 - val_loss: 0.3712 - val_accuracy: 0.6453\n",
      "Epoch 42/50\n",
      "898/898 [==============================] - 26s 29ms/step - loss: 0.0772 - accuracy: 0.9350 - val_loss: 0.3776 - val_accuracy: 0.6503\n",
      "Epoch 43/50\n",
      "898/898 [==============================] - 26s 29ms/step - loss: 0.0745 - accuracy: 0.9406 - val_loss: 0.3533 - val_accuracy: 0.6311\n",
      "Epoch 44/50\n",
      "898/898 [==============================] - 26s 29ms/step - loss: 0.0770 - accuracy: 0.9346 - val_loss: 0.3691 - val_accuracy: 0.6500\n",
      "Epoch 45/50\n",
      "898/898 [==============================] - 26s 29ms/step - loss: 0.0726 - accuracy: 0.9430 - val_loss: 0.3979 - val_accuracy: 0.6492\n",
      "Epoch 46/50\n",
      "898/898 [==============================] - 26s 29ms/step - loss: 0.0698 - accuracy: 0.9450 - val_loss: 0.3867 - val_accuracy: 0.6492\n",
      "Epoch 47/50\n",
      "898/898 [==============================] - 26s 29ms/step - loss: 0.0688 - accuracy: 0.9456 - val_loss: 0.3862 - val_accuracy: 0.6445\n",
      "Epoch 48/50\n",
      "898/898 [==============================] - 26s 29ms/step - loss: 0.0701 - accuracy: 0.9447 - val_loss: 0.3978 - val_accuracy: 0.6531\n",
      "Epoch 49/50\n",
      "898/898 [==============================] - 26s 29ms/step - loss: 0.0681 - accuracy: 0.9469 - val_loss: 0.3984 - val_accuracy: 0.6431\n",
      "Epoch 50/50\n",
      "898/898 [==============================] - 26s 29ms/step - loss: 0.0716 - accuracy: 0.9448 - val_loss: 0.3829 - val_accuracy: 0.6484\n"
     ]
    }
   ],
   "source": [
    "#Compiling the model using adam optimizer\n",
    "modelad.compile(optimizer= 'adam', \n",
    "              loss='binary_crossentropy',\n",
    "              metrics=['accuracy'])\n",
    "#Training the model\n",
    "historyad=modelad.fit(x_train, y_train,\n",
    "                  epochs=50,\n",
    "                  validation_data=(x_test,y_test))"
   ]
  },
  {
   "cell_type": "code",
   "execution_count": 41,
   "id": "28f22641",
   "metadata": {},
   "outputs": [
    {
     "data": {
      "image/png": "[encoded data removed]",
      "text/plain": [
       "<Figure size 432x288 with 1 Axes>"
      ]
     },
     "metadata": {
      "needs_background": "light"
     },
     "output_type": "display_data"
    }
   ],
   "source": [
    "#Creating the graph for Training and Validation loss using Rmsprop optimiser\n",
    "loss_train = history.history['loss']\n",
    "loss_val = history.history['val_loss']\n",
    "epochs = range(0,50)\n",
    "plt.plot(epochs, loss_train, 'g', label='Training loss')\n",
    "plt.plot(epochs, loss_val, 'b', label='validation loss')\n",
    "plt.title('Training and Validation loss using Rmsprop optimiser')\n",
    "plt.xlabel('Epochs')\n",
    "plt.ylabel('Loss')\n",
    "plt.legend()\n",
    "plt.show()"
   ]
  },
  {
   "cell_type": "code",
   "execution_count": 42,
   "id": "b799bfd1",
   "metadata": {},
   "outputs": [
    {
     "data": {
      "image/png": "[encoded data removed]",
      "text/plain": [
       "<Figure size 432x288 with 1 Axes>"
      ]
     },
     "metadata": {
      "needs_background": "light"
     },
     "output_type": "display_data"
    }
   ],
   "source": [
    "#Creating the graph for Training and Validation accuracy using Rmsprop optimiser\n",
    "loss_train = history.history['accuracy']\n",
    "loss_val = history.history['val_accuracy']\n",
    "epochs = range(0,50)\n",
    "plt.plot(epochs, loss_train, 'g', label='Training accuracy')\n",
    "plt.plot(epochs, loss_val, 'b', label='validation accuracy')\n",
    "plt.title('Training and Validation accuracy using Rmsprop optimiser')\n",
    "plt.xlabel('Epochs')\n",
    "plt.ylabel('Accuracy')\n",
    "plt.legend()\n",
    "plt.show()"
   ]
  },
  {
   "cell_type": "code",
   "execution_count": 36,
   "id": "542c2a89",
   "metadata": {},
   "outputs": [
    {
     "data": {
      "image/png": "[encoded data removed]",
      "text/plain": [
       "<Figure size 432x288 with 1 Axes>"
      ]
     },
     "metadata": {
      "needs_background": "light"
     },
     "output_type": "display_data"
    }
   ],
   "source": [
    "#Creating the graph for Training and Validation loss using Adam optimiser\n",
    "loss_train = historyad.history['loss']\n",
    "loss_val = historyad.history['val_loss']\n",
    "epochs = range(0,50)\n",
    "plt.plot(epochs, loss_train, 'g', label='Training loss')\n",
    "plt.plot(epochs, loss_val, 'b', label='validation loss')\n",
    "plt.title('Training and Validation loss using Adam optimiser')\n",
    "plt.xlabel('Epochs')\n",
    "plt.ylabel('Loss')\n",
    "plt.legend()\n",
    "plt.show()"
   ]
  },
  {
   "cell_type": "code",
   "execution_count": 37,
   "id": "995ba5e3",
   "metadata": {},
   "outputs": [
    {
     "data": {
      "image/png": "[encoded data removed]",
      "text/plain": [
       "<Figure size 432x288 with 1 Axes>"
      ]
     },
     "metadata": {
      "needs_background": "light"
     },
     "output_type": "display_data"
    }
   ],
   "source": [
    "#Creating the graph for Training and Validation accuracy using Adam optimiser\n",
    "loss_train = historyad.history['accuracy']\n",
    "loss_val = historyad.history['val_accuracy']\n",
    "epochs = range(0,50)\n",
    "plt.plot(epochs, loss_train, 'g', label='Training accuracy')\n",
    "plt.plot(epochs, loss_val, 'b', label='validation accuracy')\n",
    "plt.title('Training and Validation accuracy using Adam optimiser')\n",
    "plt.xlabel('Epochs')\n",
    "plt.ylabel('Accuracy')\n",
    "plt.legend()\n",
    "plt.show()"
   ]
  },
  {
   "cell_type": "code",
   "execution_count": 38,
   "id": "82807f48",
   "metadata": {},
   "outputs": [
    {
     "data": {
      "text/plain": [
       "<tf.Tensor: shape=(7, 7), dtype=int32, numpy=\n",
       "array([[279,   0,  56,  22,  62,   5,  43],\n",
       "       [ 17,  28,   4,   1,   5,   0,   1],\n",
       "       [ 52,   1, 223,  14, 112,  33,  61],\n",
       "       [ 20,   2,  24, 748,  26,  14,  61],\n",
       "       [ 90,   1,  70,  24, 387,   8,  73],\n",
       "       [  8,   1,  37,  12,  19, 323,  15],\n",
       "       [ 61,   1,  32,  51, 119,   4, 339]])>"
      ]
     },
     "execution_count": 38,
     "metadata": {},
     "output_type": "execute_result"
    }
   ],
   "source": [
    "#Creating the Confusion Matrix\n",
    "y_predicted = modelad.predict(x_test)\n",
    "y_predicted=np.array(y_predicted,'float32')\n",
    "from sklearn.metrics import classification_report, confusion_matrix\n",
    " \n",
    "pred_list = []\n",
    "actual_list = []\n",
    " \n",
    "for i in y_predicted: \n",
    "    pred_list.append(np.argmax(i))\n",
    "for i in y_test: \n",
    "    actual_list.append(np.argmax(i))\n",
    "cm = tf.math.confusion_matrix(labels=actual_list,predictions=pred_list)\n",
    "cm"
   ]
  },
  {
   "cell_type": "code",
   "execution_count": 39,
   "id": "2a580b27",
   "metadata": {},
   "outputs": [
    {
     "data": {
      "text/plain": [
       "Text(69.0, 0.5, 'Truth')"
      ]
     },
     "execution_count": 39,
     "metadata": {},
     "output_type": "execute_result"
    },
    {
     "data": {
      "image/png": "[encoded data removed]",
      "text/plain": [
       "<Figure size 720x504 with 2 Axes>"
      ]
     },
     "metadata": {
      "needs_background": "light"
     },
     "output_type": "display_data"
    }
   ],
   "source": [
    "#Confusion matrix using seaborn for better visualization\n",
    "import seaborn as sn\n",
    "plt.figure(figsize = (10,7))\n",
    "axis_label=['angry', 'disgust', 'fear', 'happy', 'sad', 'surprise', 'neutral']\n",
    "sn.heatmap(cm,xticklabels=axis_label,yticklabels=axis_label,annot=True, fmt='d')\n",
    "plt.xlabel('Predicted')\n",
    "plt.ylabel('Truth')"
   ]
  },
  {
   "cell_type": "code",
   "execution_count": 40,
   "id": "81ab9a26",
   "metadata": {},
   "outputs": [
    {
     "name": "stdout",
     "output_type": "stream",
     "text": [
      "Saved model to disk\n"
     ]
    }
   ],
   "source": [
    "#Saving the model compiled using adam optimizer to disk\n",
    "from tensorflow.keras.models import model_from_json\n",
    "model_json = modelad.to_json()\n",
    "with open(\"./modeladam.json\", \"w\") as json_file:\n",
    "    json_file.write(model_json)\n",
    "# serialize weights to HDF5\n",
    "model.save_weights(\"./modeladam.h5\")\n",
    "print(\"Saved model to disk\")"
   ]
  }
 ],
 "metadata": {
  "kernelspec": {
   "display_name": "Python 3",
   "language": "python",
   "name": "python3"
  },
  "language_info": {
   "codemirror_mode": {
    "name": "ipython",
    "version": 3
   },
   "file_extension": ".py",
   "mimetype": "text/x-python",
   "name": "python",
   "nbconvert_exporter": "python",
   "pygments_lexer": "ipython3",
   "version": "3.9.4"
  }
 },
 "nbformat": 4,
 "nbformat_minor": 5
}
